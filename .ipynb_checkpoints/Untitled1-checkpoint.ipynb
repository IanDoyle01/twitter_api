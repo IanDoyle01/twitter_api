{
 "cells": [
  {
   "cell_type": "code",
   "execution_count": null,
   "metadata": {},
   "outputs": [],
   "source": [
    "%matplotlib notebook\n",
    "import matplotlib.pyplot as plt \n",
    "import json\n",
    "\n",
    "TWEETS_DATA_PATH = 'tweet_mining.json'\n",
    "\n",
    "def read_json(file_path):\n",
    "    results = []\n",
    "    with open(TWEETS_DATA_PATH) as tweets_file:\n",
    "        for tweet_line in tweets_file:\n",
    "            try:\n",
    "                status = json.loads(tweet_line)\n",
    "                results.append(status)\n",
    "            except ValueError:\n",
    "                pass\n",
    "            return results"
   ]
  },
  {
   "cell_type": "code",
   "execution_count": null,
   "metadata": {},
   "outputs": [],
   "source": [
    "import re\n",
    "\n",
    "def is_token_in_tweet_text(token, tweet_text):\n",
    "    token = token.lower()\n",
    "    tweet_text = ''.join(tweet_text).lower()\n",
    "    match = re.search(token, tweet_text)\n",
    "    if match:\n",
    "        return True\n",
    "    return False\n",
    "\n",
    "results = read_json(TWEETS_DATA_PATH)"
   ]
  },
  {
   "cell_type": "code",
   "execution_count": null,
   "metadata": {},
   "outputs": [],
   "source": [
    "import pandas\n",
    "\n",
    "statuses = pandas.DataFrame()\n",
    "\n",
    "statuses['text'] = [status['text'] for status in results]\n",
    "\n",
    "statuses['python'] = statuses['text'].apply(lambda status: is_token_in_tweet_text('python', status))\n",
    "statuses['javascript'] = statuses['text'].apply(lambda status: is_token_in_tweet_text('javascript', status))\n",
    "statuses['php'] = statuses['text'].apply(lambda status: is_token_in_tweet_text('php', status))\n",
    "statuses['c'] = statuses['text'].apply(lambda status: is_token_in_tweet_text('c ', status))\n",
    "\n",
    "# ouput the number of tweets where it's true that they contain our keyword\n",
    "\n",
    "print(statuses['python'].value_counts()[True])\n",
    "print(statuses['javascript'].value_counts()[True])\n",
    "print(statuses['php'].value_counts()[True])\n",
    "print(statuses['c'].value_counts()[True])"
   ]
  },
  {
   "cell_type": "code",
   "execution_count": null,
   "metadata": {},
   "outputs": [],
   "source": [
    "def lang_pie():\n",
    "    slices = [statuses['python'].value_counts()[True],\n",
    "             statuses['javascript'].value_counts()[True],\n",
    "             statuses['php'].value_counts()[True],\n",
    "             statuses['c'].value_counts()[True]]\n",
    "    activities = ['Python', 'javaScript', 'php', 'C']\n",
    "    cols = ['c', 'm', 'r', 'b']\n",
    "    \n",
    "    ply.pie(slices, colors=cols, labels=activities,\n",
    "            starttangle=90, shadow=True, explode=(0.5, 0, 0.5, 0),\n",
    "            autopct='%1.1f%%')\n",
    "    \n",
    "    plt.title('Tweet Incidence\\nof coding languages')\n",
    "    plt.show()\n",
    "\n",
    "lang_pie()"
   ]
  },
  {
   "cell_type": "code",
   "execution_count": null,
   "metadata": {},
   "outputs": [],
   "source": []
  }
 ],
 "metadata": {
  "kernelspec": {
   "display_name": "Python 3",
   "language": "python",
   "name": "python3"
  }
 },
 "nbformat": 4,
 "nbformat_minor": 2
}
