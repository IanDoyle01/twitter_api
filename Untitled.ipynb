{
 "cells": [
  {
   "cell_type": "code",
   "execution_count": null,
   "metadata": {},
   "outputs": [],
   "source": [
    "%matplotlib notebook\n",
    "import matplotlib.pyplot as plt\n",
    "import json\n",
    "\n",
    "TWEETS_DATA_PATH = 'tweet_mining.json'\n",
    "\n",
    "results = []\n",
    "with open(TWEETS_DATA_PATH) as tweets_file:\n",
    "    for tweet_line in tweets_file:\n",
    "        try:\n",
    "            status = json.loads(tweet_line)\n",
    "            results.append(status)\n",
    "        except ValueError:\n",
    "            pass\n",
    "\n",
    "print(len(results))"
   ]
  },
  {
   "cell_type": "code",
   "execution_count": null,
   "metadata": {},
   "outputs": [],
   "source": [
    "import pandas\n",
    "\n",
    "# create a DataFrame\n",
    "statuses = pandas.DataFrame()\n",
    "\n",
    "# store the text values\n",
    "statuses['text'] = [status['text'] for status in results]\n",
    "# store the Language values\n",
    "statuses['lang'] = [status['lang'] for status in results]\n",
    "# sometimes the 'place' is blank in the tweet. so use N/A in that case\n",
    "statuses['country'] = [status['place']['country'] if status['place'] else 'N/A' for status in results]\n",
    "\n",
    "print(statuses.head())"
   ]
  },
  {
   "cell_type": "code",
   "execution_count": null,
   "metadata": {},
   "outputs": [],
   "source": [
    "# get each tweet Language and the count of its appearance (not to be confused with programming languages)\n",
    "tweets_by_lang = statuses['lang'].value_counts()\n",
    "# get each tweet country of origin and the count of its appearance\n",
    "tweets_by_country = statuses['country'].value_counts()\n",
    "\n",
    "print(tweets_by_lang.head())\n",
    "print(tweets_by_country.head())"
   ]
  },
  {
   "cell_type": "code",
   "execution_count": null,
   "metadata": {},
   "outputs": [],
   "source": [
    "# create our drawing space (figure)\n",
    "fig = plt.figure()\n",
    "fig.subplots_adjust(hspace=.9)\n",
    "\n",
    "# prepare to plot two charts on same figure\n",
    "ax1 = fig.add_subplot(2,1,1)\n",
    "ax2 = fig.add_subplot(2,1,2)\n",
    "\n",
    "# style the axes\n",
    "ax1.tick_params(axis='x', labelsize=15)\n",
    "ax1.tick_params(axis='y', labelsize=10)\n",
    "ax1.set_xlabel('Tweet languages', fontsize=15)\n",
    "ax1.set_ylabel('Number of tweets', fontsize=15)\n",
    "ax1.xaxis.label.set_color('#666666')\n",
    "ax1.yaxis.label.set_color('#666666')\n",
    "ax1.tick_params(axis='x', colors ='#666666')\n",
    "ax1.tick_params(axis='y', colors ='#666666')\n",
    "# style the title\n",
    "ax1.set_title('Top 10 languages', fontsize=15, color='#666666')\n",
    "\n",
    "# plot the top 10 tweet languages and appearance count using a bar chart\n",
    "tweets_by_lang[:10].plot(ax=ax1, kind='bar', color='#FF7A00')\n",
    "\n",
    "# color the spines (borders)\n",
    "for spine in ax1.spines.values():\n",
    "    spine.set_edgecolor('#666666')\n",
    "    \n",
    "#second subplot\n",
    "ax2.tick_params(axis='x', labelsize=15)\n",
    "ax2.tick_params(axis='y', labelsize=10)\n",
    "ax2.set_xlabel('Countries', fontsize=15)\n",
    "ax2.set_ylabel('Number of tweets', fontsize=15)\n",
    "ax2.xaxis.label.set_color('#666666')\n",
    "ax2.yaxis.label.set_color('#666666')\n",
    "ax2.tick_params(axis='x', colors ='#666666')\n",
    "ax2.tick_params(axis='y', colors ='#666666')\n",
    "# style the title\n",
    "ax1.set_title('Top 10 Countries', fontsize=15, color='#666666')\n",
    "\n",
    "# plot the top 10 tweet languages and appearance count using a bar chart\n",
    "tweets_by_country[:10].plot(ax=ax2, kind='bar', color='#FF7A00')\n",
    "\n",
    "# color the spines (border)\n",
    "for spine in ax2.spines.values():\n",
    "    spine.set_edgecolor('#666666')\n",
    "    \n",
    "# render the two graphs at once\n",
    "plt.show()"
   ]
  }
 ],
 "metadata": {
  "kernelspec": {
   "display_name": "Python 3",
   "language": "python",
   "name": "python3"
  }
 },
 "nbformat": 4,
 "nbformat_minor": 2
}
